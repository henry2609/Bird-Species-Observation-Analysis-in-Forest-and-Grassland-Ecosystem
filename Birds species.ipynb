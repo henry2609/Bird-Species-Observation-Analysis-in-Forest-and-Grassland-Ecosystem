{
 "cells": [
  {
   "cell_type": "code",
   "execution_count": 1,
   "id": "4e8f91ea-7b74-4a25-ae75-3f5757aa8179",
   "metadata": {},
   "outputs": [
    {
     "name": "stdout",
     "output_type": "stream",
     "text": [
      "Defaulting to user installation because normal site-packages is not writeable\n",
      "Requirement already satisfied: mysql-connector-python in c:\\users\\samhe\\appdata\\roaming\\python\\python312\\site-packages (9.2.0)\n"
     ]
    }
   ],
   "source": [
    "!pip install mysql-connector-python"
   ]
  },
  {
   "cell_type": "code",
   "execution_count": 13,
   "id": "68d22af1-484c-485b-84ef-b40cd37845a1",
   "metadata": {},
   "outputs": [],
   "source": [
    "import mysql.connector"
   ]
  },
  {
   "cell_type": "code",
   "execution_count": 19,
   "id": "263e78f0-cd14-46ef-bdd8-4dab31581c43",
   "metadata": {},
   "outputs": [],
   "source": [
    "mydb = mysql.connector.connect(\n",
    "    host = \"localhost\",\n",
    "    user = \"root\",\n",
    "    password=\"\"\n",
    ")\n"
   ]
  },
  {
   "cell_type": "code",
   "execution_count": 20,
   "id": "605243e8-f2fe-41f3-9a7b-6b3f996269ab",
   "metadata": {},
   "outputs": [],
   "source": [
    "mycursor = mydb.cursor(buffered=True)"
   ]
  },
  {
   "cell_type": "code",
   "execution_count": 22,
   "id": "65eaff6f-c3c1-45b2-b709-70cfe9a3b624",
   "metadata": {},
   "outputs": [],
   "source": [
    "import mysql.connector\n",
    "conn = mysql.connector.connect(\n",
    "    host=\"localhost\", \n",
    "    user=\"root\",     \n",
    "    password=\"\"  \n",
    ")\n",
    "cursor = conn.cursor()\n",
    "cursor.execute(\"CREATE DATABASE birds_species\")\n",
    "cursor.close()\n",
    "conn.close()"
   ]
  },
  {
   "cell_type": "code",
   "execution_count": 23,
   "id": "ea169a8f-d7fa-4a71-809b-d320187c5d88",
   "metadata": {},
   "outputs": [
    {
     "name": "stdout",
     "output_type": "stream",
     "text": [
      "Defaulting to user installation because normal site-packages is not writeable\n",
      "Requirement already satisfied: mysql-connector-python in c:\\users\\samhe\\appdata\\roaming\\python\\python312\\site-packages (9.2.0)\n",
      "Requirement already satisfied: pandas in c:\\programdata\\anaconda3\\lib\\site-packages (2.2.2)\n",
      "Requirement already satisfied: openpyxl in c:\\programdata\\anaconda3\\lib\\site-packages (3.1.5)\n",
      "Requirement already satisfied: numpy>=1.26.0 in c:\\programdata\\anaconda3\\lib\\site-packages (from pandas) (1.26.4)\n",
      "Requirement already satisfied: python-dateutil>=2.8.2 in c:\\programdata\\anaconda3\\lib\\site-packages (from pandas) (2.9.0.post0)\n",
      "Requirement already satisfied: pytz>=2020.1 in c:\\programdata\\anaconda3\\lib\\site-packages (from pandas) (2024.1)\n",
      "Requirement already satisfied: tzdata>=2022.7 in c:\\programdata\\anaconda3\\lib\\site-packages (from pandas) (2023.3)\n",
      "Requirement already satisfied: et-xmlfile in c:\\programdata\\anaconda3\\lib\\site-packages (from openpyxl) (1.1.0)\n",
      "Requirement already satisfied: six>=1.5 in c:\\programdata\\anaconda3\\lib\\site-packages (from python-dateutil>=2.8.2->pandas) (1.16.0)\n",
      "Note: you may need to restart the kernel to use updated packages.\n"
     ]
    }
   ],
   "source": [
    "pip install mysql-connector-python pandas openpyxl"
   ]
  },
  {
   "cell_type": "code",
   "execution_count": 31,
   "id": "f0cbb204-6f6a-4a37-a68c-a7810c27a41c",
   "metadata": {},
   "outputs": [
    {
     "name": "stdout",
     "output_type": "stream",
     "text": [
      "Columns: ['Admin_Unit_Code', 'Sub_Unit_Code', 'Plot_Name', 'Location_Type', 'Year', 'Date', 'Start_Time', 'End_Time', 'Observer', 'Visit', 'Interval_Length', 'ID_Method', 'Distance', 'Flyover_Observed', 'Sex', 'Common_Name', 'Scientific_Name', 'AcceptedTSN', 'TaxonCode', 'AOU_Code', 'PIF_Watchlist_Status', 'Regional_Stewardship_Status', 'Temperature', 'Humidity', 'Sky', 'Wind', 'Disturbance', 'Previously_Obs', 'Initial_Three_Min_Cnt', 'Site']\n",
      "✅ Data inserted successfully into MySQL.\n"
     ]
    }
   ],
   "source": [
    "import pandas as pd\n",
    "import mysql.connector\n",
    "\n",
    "# Load the Excel file\n",
    "file_path = r\"C:\\Users\\samhe\\OneDrive\\Desktop\\Birds species analysis\\Bird_Monitoring_Cleaned grass land.xlsx\"\n",
    "df = pd.read_excel(file_path)\n",
    "\n",
    "# Optional: Show the columns\n",
    "print(\"Columns:\", df.columns.tolist())\n",
    "\n",
    "# Replace these with your own MySQL/phpMyAdmin credentials\n",
    "db_config = {\n",
    "    'host': 'localhost',\n",
    "    'user': 'root',\n",
    "    'password': '',\n",
    "    'database': 'birds_species'  # This database must already be created\n",
    "}\n",
    "\n",
    "# Connect to MySQL\n",
    "conn = mysql.connector.connect(**db_config)\n",
    "cursor = conn.cursor()\n",
    "\n",
    "# Table name\n",
    "table_name = 'bird_observations_in_grass_land'\n",
    "\n",
    "# Step 1: Create table (based on DataFrame columns)\n",
    "create_table_query = f\"\"\"\n",
    "CREATE TABLE IF NOT EXISTS {table_name} (\n",
    "    id INT AUTO_INCREMENT PRIMARY KEY,\n",
    "    {', '.join(f\"`{col}` TEXT\" for col in df.columns)}\n",
    ");\n",
    "\"\"\"\n",
    "cursor.execute(create_table_query)\n",
    "\n",
    "# Step 2: Insert data row by row\n",
    "for _, row in df.iterrows():\n",
    "    placeholders = ', '.join(['%s'] * len(row))\n",
    "    columns = ', '.join(f\"`{col}`\" for col in df.columns)\n",
    "    insert_query = f\"INSERT INTO {table_name} ({columns}) VALUES ({placeholders})\"\n",
    "    cursor.execute(insert_query, tuple(row.fillna('').astype(str)))\n",
    "\n",
    "# Commit and close\n",
    "conn.commit()\n",
    "cursor.close()\n",
    "conn.close()\n",
    "\n",
    "print(\"✅ Data inserted successfully into MySQL.\")\n"
   ]
  },
  {
   "cell_type": "code",
   "execution_count": 30,
   "id": "fae10669-b603-4227-8300-b699570be519",
   "metadata": {},
   "outputs": [
    {
     "name": "stdout",
     "output_type": "stream",
     "text": [
      "✅ Data inserted successfully into MySQL/phpMyAdmin.\n"
     ]
    }
   ],
   "source": [
    "import pandas as pd\n",
    "import mysql.connector\n",
    "\n",
    "# Load the CSV file\n",
    "file_path = r\"C:\\Users\\samhe\\OneDrive\\Desktop\\Birds species analysis\\cleaned_bird_monitoring_data forest.csv\"\n",
    "df = pd.read_csv(file_path)\n",
    "\n",
    "# Replace with your MySQL/phpMyAdmin credentials\n",
    "db_config = {\n",
    "    'host': 'localhost',\n",
    "    'user': 'root',        # e.g., 'root'\n",
    "    'password': '',    # e.g., 'admin'\n",
    "    'database': 'birds_species'     # This database must already exist\n",
    "}\n",
    "\n",
    "# Connect to MySQL\n",
    "conn = mysql.connector.connect(**db_config)\n",
    "cursor = conn.cursor()\n",
    "\n",
    "# Table name to insert data\n",
    "table_name = 'bird_observations_in_forest'\n",
    "\n",
    "# Step 1: Create table based on DataFrame columns (all TEXT for simplicity)\n",
    "columns_sql = ',\\n    '.join([f\"`{col}` TEXT\" for col in df.columns])\n",
    "create_query = f\"\"\"\n",
    "CREATE TABLE IF NOT EXISTS `{table_name}` (\n",
    "    id INT AUTO_INCREMENT PRIMARY KEY,\n",
    "    {columns_sql}\n",
    ");\n",
    "\"\"\"\n",
    "cursor.execute(create_query)\n",
    "\n",
    "# Step 2: Insert data into the table\n",
    "for _, row in df.iterrows():\n",
    "    columns = ', '.join([f\"`{col}`\" for col in df.columns])\n",
    "    placeholders = ', '.join(['%s'] * len(row))\n",
    "    insert_query = f\"INSERT INTO `{table_name}` ({columns}) VALUES ({placeholders})\"\n",
    "    values = tuple(row.fillna('').astype(str))  # fill NaN and convert to string\n",
    "    cursor.execute(insert_query, values)\n",
    "\n",
    "# Finalize\n",
    "conn.commit()\n",
    "cursor.close()\n",
    "conn.close()\n",
    "\n",
    "print(\"✅ Data inserted successfully into MySQL/phpMyAdmin.\")\n"
   ]
  },
  {
   "cell_type": "code",
   "execution_count": null,
   "id": "b72ac6c2-17bc-402a-9aa9-f84896a2f0aa",
   "metadata": {},
   "outputs": [],
   "source": []
  }
 ],
 "metadata": {
  "kernelspec": {
   "display_name": "Python 3 (ipykernel)",
   "language": "python",
   "name": "python3"
  },
  "language_info": {
   "codemirror_mode": {
    "name": "ipython",
    "version": 3
   },
   "file_extension": ".py",
   "mimetype": "text/x-python",
   "name": "python",
   "nbconvert_exporter": "python",
   "pygments_lexer": "ipython3",
   "version": "3.12.7"
  }
 },
 "nbformat": 4,
 "nbformat_minor": 5
}
